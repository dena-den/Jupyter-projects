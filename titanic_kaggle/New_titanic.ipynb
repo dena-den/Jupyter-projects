{
 "cells": [
  {
   "cell_type": "code",
   "execution_count": 1117,
   "metadata": {},
   "outputs": [],
   "source": [
    "import pandas as pd\n",
    "import numpy as np\n",
    "import matplotlib.pyplot as plt\n",
    "import seaborn as sns\n",
    "\n",
    "%matplotlib inline"
   ]
  },
  {
   "cell_type": "code",
   "execution_count": 1118,
   "metadata": {},
   "outputs": [],
   "source": [
    "train = pd.read_csv('train.csv')\n",
    "test = pd.read_csv('test.csv')\n",
    "combine = [train, test]"
   ]
  },
  {
   "cell_type": "markdown",
   "metadata": {},
   "source": [
    "# Data preparation"
   ]
  },
  {
   "cell_type": "markdown",
   "metadata": {},
   "source": [
    "### Get 'child' from age and sex"
   ]
  },
  {
   "cell_type": "code",
   "execution_count": 1119,
   "metadata": {},
   "outputs": [],
   "source": [
    "train['Person'] = train['Sex']\n",
    "train.loc[train['Age'] < 16, 'Person'] = 'child'\n",
    "\n",
    "test['Person'] = test['Sex']\n",
    "test.loc[test['Age'] < 16, 'Person'] = 'child'"
   ]
  },
  {
   "cell_type": "markdown",
   "metadata": {},
   "source": [
    "### Person (Sex)"
   ]
  },
  {
   "cell_type": "code",
   "execution_count": 1120,
   "metadata": {},
   "outputs": [
    {
     "data": {
      "text/plain": [
       "\"for df in combine:\\n    df['Person'] = df['Person'].map({'male': 0, 'female': 1, 'child': 3}).astype('int')\""
      ]
     },
     "execution_count": 1120,
     "metadata": {},
     "output_type": "execute_result"
    }
   ],
   "source": [
    "'''for df in combine:\n",
    "    df['Person'] = df['Person'].map({'male': 0, 'female': 1, 'child': 3}).astype('int')'''"
   ]
  },
  {
   "cell_type": "markdown",
   "metadata": {},
   "source": [
    "# Person get_dummies (and drop male)"
   ]
  },
  {
   "cell_type": "code",
   "execution_count": 1121,
   "metadata": {},
   "outputs": [],
   "source": [
    "# create dummy variables for Person column, & drop Male as it has the lowest average of survived passengers\n",
    "person_dummies_titanic  = pd.get_dummies(train['Person'])\n",
    "person_dummies_titanic.columns = ['Child','Female','Male']\n",
    "person_dummies_titanic.drop(['Male'], axis=1, inplace=True)\n",
    "\n",
    "person_dummies_test  = pd.get_dummies(test['Person'])\n",
    "person_dummies_test.columns = ['Child','Female','Male']\n",
    "person_dummies_test.drop(['Male'], axis=1, inplace=True)\n",
    "\n",
    "train = train.join(person_dummies_titanic)\n",
    "test  = test.join(person_dummies_test)\n",
    "\n",
    "train.drop(['Person'],axis=1,inplace=True)\n",
    "test.drop(['Person'],axis=1,inplace=True)"
   ]
  },
  {
   "cell_type": "markdown",
   "metadata": {},
   "source": [
    "### SibSp and Parch ===> IsAlone?"
   ]
  },
  {
   "cell_type": "code",
   "execution_count": 1122,
   "metadata": {},
   "outputs": [],
   "source": [
    "train['IsAlone'] = 0\n",
    "train.loc[(df['Parch'] == 0) & (train['SibSp'] == 0), 'IsAlone'] = 1\n",
    "\n",
    "test['IsAlone'] = 0\n",
    "test.loc[(df['Parch'] == 0) & (test['SibSp'] == 0), 'IsAlone'] = 1"
   ]
  },
  {
   "cell_type": "markdown",
   "metadata": {},
   "source": [
    "### Embarked"
   ]
  },
  {
   "cell_type": "code",
   "execution_count": 1123,
   "metadata": {},
   "outputs": [],
   "source": [
    "freq_port_train = train.Embarked.dropna().mode()[0]\n",
    "#freq_port_test = test.Embarked.dropna().mode()\n",
    "train.Embarked = train.Embarked.fillna(freq_port_train)\n",
    "test.Embarked = test.Embarked.fillna(freq_port_train)\n",
    "#df.Embarked = df.Embarked.map({'S': 0, 'C': 1, 'Q': 2}).fillna(4).astype(int)"
   ]
  },
  {
   "cell_type": "markdown",
   "metadata": {},
   "source": [
    "# Embarked get_dummies (and drop S)"
   ]
  },
  {
   "cell_type": "code",
   "execution_count": 1124,
   "metadata": {},
   "outputs": [],
   "source": [
    "embark_dummies_titanic  = pd.get_dummies(train['Embarked'])\n",
    "embark_dummies_titanic.drop(['S'], axis=1, inplace=True)\n",
    "\n",
    "embark_dummies_test  = pd.get_dummies(test['Embarked'])\n",
    "embark_dummies_test.drop(['S'], axis=1, inplace=True)\n",
    "\n",
    "train = train.join(embark_dummies_titanic)\n",
    "test  = test.join(embark_dummies_test)\n",
    "\n",
    "train.drop(['Embarked'], axis=1,inplace=True)\n",
    "test.drop(['Embarked'], axis=1,inplace=True)"
   ]
  },
  {
   "cell_type": "markdown",
   "metadata": {},
   "source": [
    "### Age"
   ]
  },
  {
   "cell_type": "code",
   "execution_count": 1125,
   "metadata": {},
   "outputs": [
    {
     "data": {
      "text/plain": [
       "\"for df in combine:\\n    age_nan = np.zeros((2,3))\\n    for sex in range(0,2):\\n        for pcl in range(1,4):\\n            df_SexPcl = df[(df['Sex'] == sex) & (df['Pclass'] == pcl)]['Age'].dropna()\\n            age_nan[sex,pcl-1] = int(df_SexPcl.median()/0.5 + 0.5) * 0.5\\n\\n    for sex in range(0,2):\\n        for pcl in range(1,4):\\n            df.loc[((df['Age'].isnull()) & (df['Sex'] == sex) & (df['Pclass'] == pcl)), 'Age'] =                 age_nan[sex, pcl-1]\\n    df['Age'] = df['Age'].astype(int)\""
      ]
     },
     "execution_count": 1125,
     "metadata": {},
     "output_type": "execute_result"
    }
   ],
   "source": [
    "'''for df in combine:\n",
    "    age_nan = np.zeros((2,3))\n",
    "    for sex in range(0,2):\n",
    "        for pcl in range(1,4):\n",
    "            df_SexPcl = df[(df['Sex'] == sex) & (df['Pclass'] == pcl)]['Age'].dropna()\n",
    "            age_nan[sex,pcl-1] = int(df_SexPcl.median()/0.5 + 0.5) * 0.5\n",
    "\n",
    "    for sex in range(0,2):\n",
    "        for pcl in range(1,4):\n",
    "            df.loc[((df['Age'].isnull()) & (df['Sex'] == sex) & (df['Pclass'] == pcl)), 'Age'] = \\\n",
    "                age_nan[sex, pcl-1]\n",
    "    df['Age'] = df['Age'].astype(int)'''"
   ]
  },
  {
   "cell_type": "code",
   "execution_count": 1126,
   "metadata": {},
   "outputs": [
    {
     "data": {
      "text/plain": [
       "\"# pd.cut(train.Age, 5)\\n\\nfor df in combine:\\n    df.loc[ df.Age <= 16, 'Age'] = 0\\n    df.loc[(df.Age > 16) & (df.Age <= 32), 'Age'] = 1\\n    df.loc[(df.Age > 32) & (df.Age <= 48), 'Age'] = 2\\n    df.loc[(df.Age > 48) & (df.Age <= 64), 'Age'] = 3\\n    df.loc[ df.Age > 64, 'Age'] = 4\\n    df.Age = df.Age.astype(float)\""
      ]
     },
     "execution_count": 1126,
     "metadata": {},
     "output_type": "execute_result"
    }
   ],
   "source": [
    "'''# pd.cut(train.Age, 5)\n",
    "\n",
    "for df in combine:\n",
    "    df.loc[ df.Age <= 16, 'Age'] = 0\n",
    "    df.loc[(df.Age > 16) & (df.Age <= 32), 'Age'] = 1\n",
    "    df.loc[(df.Age > 32) & (df.Age <= 48), 'Age'] = 2\n",
    "    df.loc[(df.Age > 48) & (df.Age <= 64), 'Age'] = 3\n",
    "    df.loc[ df.Age > 64, 'Age'] = 4\n",
    "    df.Age = df.Age.astype(float)'''"
   ]
  },
  {
   "cell_type": "markdown",
   "metadata": {},
   "source": [
    "### Random Age Nan"
   ]
  },
  {
   "cell_type": "code",
   "execution_count": 1127,
   "metadata": {},
   "outputs": [],
   "source": [
    "# get average, std, and number of NaN values in titanic_df\n",
    "average_age_titanic   = train[\"Age\"].mean()\n",
    "std_age_titanic       = train[\"Age\"].std()\n",
    "count_nan_age_titanic = train[\"Age\"].isnull().sum()\n",
    "\n",
    "# get average, std, and number of NaN values in test_df\n",
    "average_age_test   = test[\"Age\"].mean()\n",
    "std_age_test       = test[\"Age\"].std()\n",
    "count_nan_age_test = test[\"Age\"].isnull().sum()\n",
    "\n",
    "# generate random numbers between (mean - std) & (mean + std)\n",
    "rand_1 = np.random.randint(average_age_titanic - std_age_titanic, \n",
    "                           average_age_titanic + std_age_titanic, \n",
    "                           size = count_nan_age_titanic)\n",
    "rand_2 = np.random.randint(average_age_test - std_age_test, \n",
    "                           average_age_test + std_age_test, \n",
    "                           size = count_nan_age_test)\n",
    "\n",
    "# fill NaN values in Age column with random values generated\n",
    "train.loc[np.isnan(train[\"Age\"]), \"Age\"] = rand_1\n",
    "test.loc[np.isnan(test[\"Age\"]), \"Age\"] = rand_2\n",
    "\n",
    "# convert from float to int\n",
    "train['Age'] = train['Age'].astype(int)\n",
    "test['Age']  = test['Age'].astype(int)"
   ]
  },
  {
   "cell_type": "markdown",
   "metadata": {},
   "source": [
    "### Age*Pclass"
   ]
  },
  {
   "cell_type": "code",
   "execution_count": 1128,
   "metadata": {},
   "outputs": [
    {
     "data": {
      "text/plain": [
       "\"for df in combine:\\n    df['Age*Pclass'] = df.Age * df.Pclass\""
      ]
     },
     "execution_count": 1128,
     "metadata": {},
     "output_type": "execute_result"
    }
   ],
   "source": [
    "'''for df in combine:\n",
    "    df['Age*Pclass'] = df.Age * df.Pclass'''"
   ]
  },
  {
   "cell_type": "markdown",
   "metadata": {},
   "source": [
    "### Fare"
   ]
  },
  {
   "cell_type": "code",
   "execution_count": 1129,
   "metadata": {},
   "outputs": [],
   "source": [
    "train.Fare = train.Fare.fillna(train.Fare.dropna().median())\n",
    "test.Fare = test.Fare.fillna(test.Fare.dropna().median())\n",
    "\n",
    "train.Fare = train.Fare.astype(int)\n",
    "test.Fare = test.Fare.astype(int)"
   ]
  },
  {
   "cell_type": "code",
   "execution_count": 1130,
   "metadata": {},
   "outputs": [
    {
     "data": {
      "text/plain": [
       "\"train.loc[ train.Fare <= 7.91, 'Fare'] = 0\\ntrain.loc[(train.Fare > 7.91) & (train.Fare <= 14.454), 'Fare'] = 1\\ntrain.loc[(train.Fare > 14.454) & (train.Fare <= 31.0), 'Fare'] = 2\\ntrain.loc[ train.Fare > 31.0, 'Fare'] = 3\\ntrain.Fare = train.Fare.astype(int)\\n\\ntest.loc[ test.Fare <= 7.91, 'Fare'] = 0\\ntest.loc[(test.Fare > 7.91) & (test.Fare <= 14.454), 'Fare'] = 1\\ntest.loc[(test.Fare > 14.454) & (test.Fare <= 31.0), 'Fare'] = 2\\ntest.loc[ test.Fare > 31.0, 'Fare'] = 3\\ntest.Fare = test.Fare.astype(int)\""
      ]
     },
     "execution_count": 1130,
     "metadata": {},
     "output_type": "execute_result"
    }
   ],
   "source": [
    "# pd.qcut(train.Fare, 4)\n",
    "'''train.loc[ train.Fare <= 7.91, 'Fare'] = 0\n",
    "train.loc[(train.Fare > 7.91) & (train.Fare <= 14.454), 'Fare'] = 1\n",
    "train.loc[(train.Fare > 14.454) & (train.Fare <= 31.0), 'Fare'] = 2\n",
    "train.loc[ train.Fare > 31.0, 'Fare'] = 3\n",
    "train.Fare = train.Fare.astype(int)\n",
    "\n",
    "test.loc[ test.Fare <= 7.91, 'Fare'] = 0\n",
    "test.loc[(test.Fare > 7.91) & (test.Fare <= 14.454), 'Fare'] = 1\n",
    "test.loc[(test.Fare > 14.454) & (test.Fare <= 31.0), 'Fare'] = 2\n",
    "test.loc[ test.Fare > 31.0, 'Fare'] = 3\n",
    "test.Fare = test.Fare.astype(int)'''"
   ]
  },
  {
   "cell_type": "markdown",
   "metadata": {},
   "source": [
    "### Name ===> Title"
   ]
  },
  {
   "cell_type": "code",
   "execution_count": 1131,
   "metadata": {},
   "outputs": [],
   "source": [
    "title_map = {\"Mr\": 1, \"Miss\": 2, \"Mrs\": 3, \"Master\": 4, \"Rare\": 5}\n",
    "\n",
    "for df in combine:\n",
    "    df['Title'] = df.Name.str.extract(' ([A-Za-z]+)\\.', expand=False)\n",
    "    \n",
    "    df['Title'] = df['Title'].replace(['Lady', 'Countess','Capt', 'Col',\\\n",
    "     'Don', 'Dr', 'Major', 'Rev', 'Sir', 'Jonkheer', 'Dona'], 'Rare')\n",
    "    df['Title'] = df['Title'].replace('Mlle', 'Miss')\n",
    "    df['Title'] = df['Title'].replace('Ms', 'Miss')\n",
    "    df['Title'] = df['Title'].replace('Mme', 'Mrs')\n",
    "    \n",
    "    df['Title'] = df['Title'].map(title_map).fillna(0)"
   ]
  },
  {
   "cell_type": "markdown",
   "metadata": {},
   "source": [
    "### Delete useless"
   ]
  },
  {
   "cell_type": "code",
   "execution_count": 1132,
   "metadata": {},
   "outputs": [],
   "source": [
    "train = train.drop(['PassengerId', 'Name', 'SibSp', 'Parch', 'Ticket', 'Cabin', 'Sex',\n",
    "                   'Fare', 'Age'], axis=1)\n",
    "test = test.drop(['Name', 'SibSp', 'Parch', 'Ticket', 'Cabin', 'Sex', 'Fare', 'Age'], axis=1)"
   ]
  },
  {
   "cell_type": "markdown",
   "metadata": {},
   "source": [
    "# Pclass (drop 3-Pclass)"
   ]
  },
  {
   "cell_type": "code",
   "execution_count": 1133,
   "metadata": {
    "scrolled": false
   },
   "outputs": [],
   "source": [
    "pclass_dummies_titanic  = pd.get_dummies(train['Pclass'])\n",
    "pclass_dummies_titanic.columns = ['Class_1','Class_2','Class_3']\n",
    "pclass_dummies_titanic.drop(['Class_3'], axis=1, inplace=True)\n",
    "\n",
    "pclass_dummies_test  = pd.get_dummies(test['Pclass'])\n",
    "pclass_dummies_test.columns = ['Class_1','Class_2','Class_3']\n",
    "pclass_dummies_test.drop(['Class_3'], axis=1, inplace=True)\n",
    "\n",
    "train = train.join(pclass_dummies_titanic)\n",
    "test  = test.join(pclass_dummies_test)\n",
    "\n",
    "train.drop(['Pclass'], axis=1,inplace=True)\n",
    "test.drop(['Pclass'], axis=1,inplace=True)"
   ]
  },
  {
   "cell_type": "markdown",
   "metadata": {},
   "source": [
    "# Model, prediction and solve"
   ]
  },
  {
   "cell_type": "code",
   "execution_count": 1134,
   "metadata": {},
   "outputs": [],
   "source": [
    "from sklearn import tree\n",
    "import statsmodels.api as sm\n",
    "from sklearn.linear_model import LogisticRegression\n",
    "from sklearn.svm import SVC\n",
    "from sklearn.ensemble import RandomForestClassifier\n",
    "from sklearn.model_selection import train_test_split\n",
    "from sklearn.model_selection import cross_val_score\n",
    "from sklearn.metrics import precision_score\n",
    "from sklearn.metrics import recall_score\n",
    "from sklearn.metrics import f1_score\n",
    "from sklearn.metrics import r2_score\n",
    "from sklearn.model_selection import GridSearchCV\n",
    "from sklearn.model_selection import RandomizedSearchCV\n",
    "import random"
   ]
  },
  {
   "cell_type": "code",
   "execution_count": 1135,
   "metadata": {},
   "outputs": [],
   "source": [
    "x_train = train.drop('Survived', axis=1)\n",
    "y_train = train.Survived\n",
    "x_test = test.drop('PassengerId', axis=1).copy()"
   ]
  },
  {
   "cell_type": "markdown",
   "metadata": {},
   "source": [
    "### LogReg"
   ]
  },
  {
   "cell_type": "code",
   "execution_count": 1136,
   "metadata": {},
   "outputs": [
    {
     "data": {
      "text/plain": [
       "0.795"
      ]
     },
     "execution_count": 1136,
     "metadata": {},
     "output_type": "execute_result"
    }
   ],
   "source": [
    "log_reg = LogisticRegression()\n",
    "log_reg.fit(x_train, y_train)\n",
    "y_pred = log_reg.predict(x_test)\n",
    "log_reg.score(x_train, y_train).round(3)"
   ]
  },
  {
   "cell_type": "code",
   "execution_count": 1137,
   "metadata": {},
   "outputs": [
    {
     "data": {
      "text/html": [
       "<div>\n",
       "<style scoped>\n",
       "    .dataframe tbody tr th:only-of-type {\n",
       "        vertical-align: middle;\n",
       "    }\n",
       "\n",
       "    .dataframe tbody tr th {\n",
       "        vertical-align: top;\n",
       "    }\n",
       "\n",
       "    .dataframe thead th {\n",
       "        text-align: right;\n",
       "    }\n",
       "</style>\n",
       "<table border=\"1\" class=\"dataframe\">\n",
       "  <thead>\n",
       "    <tr style=\"text-align: right;\">\n",
       "      <th></th>\n",
       "      <th>Feature</th>\n",
       "      <th>Correlation</th>\n",
       "    </tr>\n",
       "  </thead>\n",
       "  <tbody>\n",
       "    <tr>\n",
       "      <th>1</th>\n",
       "      <td>Female</td>\n",
       "      <td>2.732994</td>\n",
       "    </tr>\n",
       "    <tr>\n",
       "      <th>0</th>\n",
       "      <td>Child</td>\n",
       "      <td>2.311282</td>\n",
       "    </tr>\n",
       "    <tr>\n",
       "      <th>5</th>\n",
       "      <td>Class_1</td>\n",
       "      <td>1.857058</td>\n",
       "    </tr>\n",
       "    <tr>\n",
       "      <th>6</th>\n",
       "      <td>Class_2</td>\n",
       "      <td>1.086944</td>\n",
       "    </tr>\n",
       "    <tr>\n",
       "      <th>3</th>\n",
       "      <td>C</td>\n",
       "      <td>0.617844</td>\n",
       "    </tr>\n",
       "    <tr>\n",
       "      <th>4</th>\n",
       "      <td>Q</td>\n",
       "      <td>0.327135</td>\n",
       "    </tr>\n",
       "    <tr>\n",
       "      <th>2</th>\n",
       "      <td>IsAlone</td>\n",
       "      <td>0.169294</td>\n",
       "    </tr>\n",
       "  </tbody>\n",
       "</table>\n",
       "</div>"
      ],
      "text/plain": [
       "   Feature  Correlation\n",
       "1   Female     2.732994\n",
       "0    Child     2.311282\n",
       "5  Class_1     1.857058\n",
       "6  Class_2     1.086944\n",
       "3        C     0.617844\n",
       "4        Q     0.327135\n",
       "2  IsAlone     0.169294"
      ]
     },
     "execution_count": 1137,
     "metadata": {},
     "output_type": "execute_result"
    }
   ],
   "source": [
    "coeff_df = pd.DataFrame(train.columns.delete(0))\n",
    "coeff_df.columns = ['Feature']\n",
    "coeff_df[\"Correlation\"] = pd.Series(log_reg.coef_[0])\n",
    "\n",
    "coeff_df.sort_values(by='Correlation', ascending=False)"
   ]
  },
  {
   "cell_type": "markdown",
   "metadata": {},
   "source": [
    "### SVC"
   ]
  },
  {
   "cell_type": "code",
   "execution_count": 1138,
   "metadata": {},
   "outputs": [
    {
     "data": {
      "text/plain": [
       "0.825"
      ]
     },
     "execution_count": 1138,
     "metadata": {},
     "output_type": "execute_result"
    }
   ],
   "source": [
    "svc = SVC()\n",
    "svc.fit(x_train, y_train)\n",
    "svc.score(x_train, y_train).round(3)"
   ]
  },
  {
   "cell_type": "markdown",
   "metadata": {},
   "source": [
    "### RandomForest"
   ]
  },
  {
   "cell_type": "code",
   "execution_count": 1147,
   "metadata": {},
   "outputs": [],
   "source": [
    "rf = RandomForestClassifier()\n",
    "parameters = {'n_estimators': [100], 'max_depth': [3, 4, 5, 6],\n",
    "             'min_samples_split': [20, 25, 30, 40], 'min_samples_leaf': [5, 10, 15]}"
   ]
  },
  {
   "cell_type": "code",
   "execution_count": 1148,
   "metadata": {},
   "outputs": [
    {
     "data": {
      "text/plain": [
       "0.819"
      ]
     },
     "execution_count": 1148,
     "metadata": {},
     "output_type": "execute_result"
    }
   ],
   "source": [
    "rand_rf = RandomizedSearchCV(rf, parameters, cv=6)\n",
    "rand_rf.fit(x_train, y_train)\n",
    "rand_rf.score(x_train, y_train).round(3)"
   ]
  },
  {
   "cell_type": "code",
   "execution_count": 1149,
   "metadata": {},
   "outputs": [
    {
     "data": {
      "text/plain": [
       "{'n_estimators': 100,\n",
       " 'min_samples_split': 25,\n",
       " 'min_samples_leaf': 10,\n",
       " 'max_depth': 6}"
      ]
     },
     "execution_count": 1149,
     "metadata": {},
     "output_type": "execute_result"
    }
   ],
   "source": [
    "rand_rf.best_params_"
   ]
  },
  {
   "cell_type": "code",
   "execution_count": 1150,
   "metadata": {},
   "outputs": [],
   "source": [
    "y_pred = rand_rf.predict(x_test)"
   ]
  },
  {
   "cell_type": "code",
   "execution_count": 1151,
   "metadata": {},
   "outputs": [],
   "source": [
    "submission = pd.DataFrame({\n",
    "        \"PassengerId\": test[\"PassengerId\"],\n",
    "        \"Survived\": y_pred})\n",
    "submission.to_csv('answer.csv', index=False)"
   ]
  },
  {
   "cell_type": "code",
   "execution_count": null,
   "metadata": {},
   "outputs": [],
   "source": []
  },
  {
   "cell_type": "code",
   "execution_count": null,
   "metadata": {},
   "outputs": [],
   "source": []
  }
 ],
 "metadata": {
  "kernelspec": {
   "display_name": "Python 3",
   "language": "python",
   "name": "python3"
  },
  "language_info": {
   "codemirror_mode": {
    "name": "ipython",
    "version": 3
   },
   "file_extension": ".py",
   "mimetype": "text/x-python",
   "name": "python",
   "nbconvert_exporter": "python",
   "pygments_lexer": "ipython3",
   "version": "3.8.5"
  }
 },
 "nbformat": 4,
 "nbformat_minor": 4
}
