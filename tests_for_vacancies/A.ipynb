{
 "cells": [
  {
   "cell_type": "code",
   "execution_count": 835,
   "metadata": {},
   "outputs": [],
   "source": [
    "import random\n",
    "from statistics import mean"
   ]
  },
  {
   "cell_type": "code",
   "execution_count": 838,
   "metadata": {},
   "outputs": [],
   "source": [
    "raznica = []\n",
    "\n",
    "for j in range(10000000):\n",
    "    a = [random.randrange(0,2)]\n",
    "    Petr, Yan, Petr_day, Yan_day = 0, 0, 0, 0\n",
    "    day = 1\n",
    "    while Petr + Yan != 2:\n",
    "        a.append(random.randrange(0,2))\n",
    "        day += 1\n",
    "        for i in range(0, len(a)-1):\n",
    "            if Petr == 0 and a[i] == 0 and a[i+1] == 1:\n",
    "                Petr = 1\n",
    "                Petr_day = day\n",
    "            elif Yan == 0 and a[i] == 1 and a[i+1] == 1:\n",
    "                Yan = 1\n",
    "                Yan_day = day  \n",
    "            elif Petr + Yan == 2:\n",
    "                break\n",
    "    raznica.append(Yan_day - Petr_day)"
   ]
  },
  {
   "cell_type": "code",
   "execution_count": 839,
   "metadata": {
    "scrolled": true
   },
   "outputs": [
    {
     "name": "stdout",
     "output_type": "stream",
     "text": [
      "2.0006879\n"
     ]
    }
   ],
   "source": [
    "#print(Petr, Petr_day)\n",
    "#print(Yan, Yan_day)\n",
    "#print(raznica)\n",
    "print(mean(raznica))"
   ]
  },
  {
   "cell_type": "code",
   "execution_count": null,
   "metadata": {},
   "outputs": [],
   "source": []
  }
 ],
 "metadata": {
  "kernelspec": {
   "display_name": "Python 3",
   "language": "python",
   "name": "python3"
  },
  "language_info": {
   "codemirror_mode": {
    "name": "ipython",
    "version": 3
   },
   "file_extension": ".py",
   "mimetype": "text/x-python",
   "name": "python",
   "nbconvert_exporter": "python",
   "pygments_lexer": "ipython3",
   "version": "3.8.5"
  }
 },
 "nbformat": 4,
 "nbformat_minor": 4
}
