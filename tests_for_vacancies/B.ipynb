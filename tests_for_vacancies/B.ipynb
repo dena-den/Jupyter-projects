{
 "cells": [
  {
   "cell_type": "code",
   "execution_count": null,
   "metadata": {},
   "outputs": [],
   "source": []
  },
  {
   "cell_type": "code",
   "execution_count": 14,
   "metadata": {},
   "outputs": [],
   "source": [
    "a = 1000 * 999 * 998 * 997 * 996 * 995 * 994 * 993 * 992 * 991 * 990 * 989 * 988 * 987 * 986 * 985 * \\\n",
    "    984 * 983 * 982 * 981 * 980 * 979\n",
    "b = 1150 * 1149 * 1148 * 1147 * 1146 * 1145 * 1144 * 1143 * 1142 * 1141 * 1140 * 1139 * 1138 * 1137 * \\\n",
    "    1136 * 1135 * 1134 * 1133 * 1132 * 1131 * 1130 * 1129"
   ]
  },
  {
   "cell_type": "code",
   "execution_count": 15,
   "metadata": {},
   "outputs": [
    {
     "data": {
      "text/plain": [
       "0.044810935972331545"
      ]
     },
     "execution_count": 15,
     "metadata": {},
     "output_type": "execute_result"
    }
   ],
   "source": [
    "a/b"
   ]
  },
  {
   "cell_type": "code",
   "execution_count": null,
   "metadata": {},
   "outputs": [],
   "source": []
  }
 ],
 "metadata": {
  "kernelspec": {
   "display_name": "Python 3",
   "language": "python",
   "name": "python3"
  },
  "language_info": {
   "codemirror_mode": {
    "name": "ipython",
    "version": 3
   },
   "file_extension": ".py",
   "mimetype": "text/x-python",
   "name": "python",
   "nbconvert_exporter": "python",
   "pygments_lexer": "ipython3",
   "version": "3.8.5"
  }
 },
 "nbformat": 4,
 "nbformat_minor": 4
}
