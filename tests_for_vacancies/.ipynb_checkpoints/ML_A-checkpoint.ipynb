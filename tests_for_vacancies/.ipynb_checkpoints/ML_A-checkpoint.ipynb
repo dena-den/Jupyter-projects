{
 "cells": [
  {
   "cell_type": "code",
   "execution_count": 195,
   "metadata": {},
   "outputs": [],
   "source": [
    "from random import uniform\n",
    "from math import cos, sin, pi\n",
    "import pandas as pd\n",
    "import numpy as np\n",
    "import sklearn as sl"
   ]
  },
  {
   "cell_type": "code",
   "execution_count": 196,
   "metadata": {},
   "outputs": [],
   "source": [
    "def generate1():  \n",
    "    a = uniform(0, 1)  \n",
    "    b = uniform(0, 1)  \n",
    "    return (a * cos(2 * pi * b), a * sin(2 * pi * b))\n",
    "\n",
    "def generate2():  \n",
    "    while True:  \n",
    "        x = uniform(-1, 1)  \n",
    "        y = uniform(-1, 1)  \n",
    "        if x ** 2 + y ** 2 > 1:  \n",
    "            continue  \n",
    "        return (x, y)"
   ]
  },
  {
   "cell_type": "code",
   "execution_count": 197,
   "metadata": {},
   "outputs": [],
   "source": [
    "df1 = pd.DataFrame(columns=['x', 'y', 'def'])\n",
    "df2 = pd.DataFrame(columns=['x', 'y', 'def'])\n",
    "\n",
    "for i in range(10):\n",
    "    x1, y1 = generate1()\n",
    "    df1.loc[len(df1)] = [x1, y1, 1]\n",
    "    \n",
    "    x2, y2 = generate2()\n",
    "    df2.loc[len(df2)] = [x2, y2, 2]\n",
    "\n",
    "train = df1.append(df2, ignore_index=True).sample(frac=1)\n",
    "\n",
    "XY_train = train.drop(['def'], axis=1)\n",
    "DEF_train = train['def']"
   ]
  },
  {
   "cell_type": "code",
   "execution_count": 217,
   "metadata": {},
   "outputs": [
    {
     "name": "stdout",
     "output_type": "stream",
     "text": [
      "-0.11591654933961491 0.5761505690812128 \n",
      " 0.5902032444798075 0.08439897010789865\n",
      "20 18 18 19\n"
     ]
    }
   ],
   "source": [
    "x1, y1 = generate1()\n",
    "x2, y2 = generate2()\n",
    "print(x1, y1, '\\n', x2, y2)\n",
    "print(len(str(x1)), len(str(y1)), len(str(x2)), len(str(y2)))"
   ]
  },
  {
   "cell_type": "code",
   "execution_count": 203,
   "metadata": {},
   "outputs": [],
   "source": [
    "df3 = pd.DataFrame(columns=['x', 'y', 'def'])\n",
    "df4 = pd.DataFrame(columns=['x', 'y', 'def'])\n",
    "\n",
    "for i in range(100):\n",
    "    x3, y3 = generate1()\n",
    "    df3.loc[len(df3)] = [x3, y3, 1]\n",
    "    \n",
    "    x4, y4 = generate2()\n",
    "    df4.loc[len(df4)] = [x4, y4, 2]\n",
    "\n",
    "test = df3.append(df4, ignore_index=True).sample(frac=1)\n",
    "\n",
    "XY_test = test.drop(['def'], axis=1)\n",
    "DEF_test = test['def']"
   ]
  },
  {
   "cell_type": "code",
   "execution_count": 191,
   "metadata": {},
   "outputs": [],
   "source": [
    "from sklearn.ensemble import RandomForestClassifier\n",
    "from sklearn.metrics import precision_score"
   ]
  },
  {
   "cell_type": "code",
   "execution_count": 192,
   "metadata": {},
   "outputs": [
    {
     "data": {
      "text/plain": [
       "1.0"
      ]
     },
     "execution_count": 192,
     "metadata": {},
     "output_type": "execute_result"
    }
   ],
   "source": [
    "rf = RandomForestClassifier()\n",
    "rf.fit(XY_train, DEF_train)\n",
    "\n",
    "rf.score(XY_train, DEF_train)"
   ]
  },
  {
   "cell_type": "code",
   "execution_count": 171,
   "metadata": {},
   "outputs": [
    {
     "data": {
      "text/plain": [
       "0.57"
      ]
     },
     "execution_count": 171,
     "metadata": {},
     "output_type": "execute_result"
    }
   ],
   "source": [
    "DEF_pred = rf.predict(XY_test)\n",
    "\n",
    "precision_score(DEF_test, DEF_pred)"
   ]
  },
  {
   "cell_type": "code",
   "execution_count": null,
   "metadata": {},
   "outputs": [],
   "source": []
  },
  {
   "cell_type": "code",
   "execution_count": 193,
   "metadata": {},
   "outputs": [
    {
     "name": "stdout",
     "output_type": "stream",
     "text": [
      "1 2 3 4 5 6\n",
      "2\n",
      "2 3 5 4 6 4\n",
      "2\n",
      "0 0 0 0 0 0\n",
      "1\n",
      "\n"
     ]
    }
   ],
   "source": [
    "from statistics import mode \n",
    "\n",
    "while True:\n",
    "    data = input()\n",
    "    if data:\n",
    "        data = data.split(' ')\n",
    "        X_col = [int(data[i]) for i in range(0, len(data), 2)]\n",
    "        Y_col = [int(data[i]) for i in range(1, len(data), 2)]\n",
    "\n",
    "        test = pd.DataFrame(columns=['x', 'y'])\n",
    "\n",
    "        for i in range(len(X_col)):\n",
    "            test.loc[len(test)] = [X_col[i], Y_col[i]]\n",
    "            \n",
    "        pred = rf.predict(test)\n",
    "        print(int(mode(pred)))\n",
    "\n",
    "        \n",
    "    else:\n",
    "        break"
   ]
  },
  {
   "cell_type": "code",
   "execution_count": null,
   "metadata": {},
   "outputs": [],
   "source": []
  },
  {
   "cell_type": "code",
   "execution_count": null,
   "metadata": {},
   "outputs": [],
   "source": []
  },
  {
   "cell_type": "code",
   "execution_count": null,
   "metadata": {},
   "outputs": [],
   "source": []
  },
  {
   "cell_type": "code",
   "execution_count": 176,
   "metadata": {},
   "outputs": [
    {
     "name": "stdout",
     "output_type": "stream",
     "text": [
      "Fitting 3 folds for each of 50 candidates, totalling 150 fits\n"
     ]
    },
    {
     "name": "stderr",
     "output_type": "stream",
     "text": [
      "[Parallel(n_jobs=-1)]: Using backend LokyBackend with 4 concurrent workers.\n",
      "[Parallel(n_jobs=-1)]: Done  42 tasks      | elapsed:   23.4s\n",
      "[Parallel(n_jobs=-1)]: Done 150 out of 150 | elapsed:  1.2min finished\n"
     ]
    },
    {
     "data": {
      "text/plain": [
       "RandomizedSearchCV(cv=3, estimator=RandomForestClassifier(), n_iter=50,\n",
       "                   n_jobs=-1,\n",
       "                   param_distributions={'bootstrap': [True, False],\n",
       "                                        'max_depth': [1, 8, 15, 22, 30],\n",
       "                                        'max_features': ['log2', 'sqrt'],\n",
       "                                        'min_samples_leaf': [2, 8, 14, 20, 27],\n",
       "                                        'min_samples_split': [2, 14, 27, 39,\n",
       "                                                              52],\n",
       "                                        'n_estimators': [100, 200, 300]},\n",
       "                   random_state=0, verbose=1)"
      ]
     },
     "execution_count": 176,
     "metadata": {},
     "output_type": "execute_result"
    }
   ],
   "source": [
    "from sklearn.model_selection import RandomizedSearchCV\n",
    "n_estimators = [int(x) for x in np.linspace(start = 100, stop = 300, num = 3)]\n",
    "max_features = ['log2', 'sqrt']\n",
    "max_depth = [int(x) for x in np.linspace(start = 1, stop = 30, num = 5)]\n",
    "min_samples_split = [int(x) for x in np.linspace(start = 2, stop = 52, num = 5)]\n",
    "min_samples_leaf = [int(x) for x in np.linspace(start = 2, stop = 27, num = 5)]\n",
    "bootstrap = [True, False]\n",
    "param_dist = {'n_estimators': n_estimators,\n",
    "               'max_features': max_features,\n",
    "               'max_depth': max_depth,\n",
    "               'min_samples_split': min_samples_split,\n",
    "               'min_samples_leaf': min_samples_leaf,\n",
    "               'bootstrap': bootstrap}\n",
    "rs = RandomizedSearchCV(rf, \n",
    "                        param_dist, \n",
    "                        n_iter = 50, \n",
    "                        cv = 3, \n",
    "                        verbose = 1, \n",
    "                        n_jobs=-1, \n",
    "                        random_state=0)\n",
    "rs.fit(XY_train, DEF_train)"
   ]
  },
  {
   "cell_type": "code",
   "execution_count": 177,
   "metadata": {},
   "outputs": [
    {
     "data": {
      "text/plain": [
       "0.581081081081081"
      ]
     },
     "execution_count": 177,
     "metadata": {},
     "output_type": "execute_result"
    }
   ],
   "source": [
    "DEF_pred_rs = rs.predict(XY_test)\n",
    "\n",
    "precision_score(DEF_test, DEF_pred_rs)"
   ]
  },
  {
   "cell_type": "code",
   "execution_count": null,
   "metadata": {},
   "outputs": [],
   "source": []
  },
  {
   "cell_type": "code",
   "execution_count": 172,
   "metadata": {},
   "outputs": [],
   "source": [
    "from sklearn import tree"
   ]
  },
  {
   "cell_type": "code",
   "execution_count": 173,
   "metadata": {},
   "outputs": [
    {
     "data": {
      "text/plain": [
       "1.0"
      ]
     },
     "execution_count": 173,
     "metadata": {},
     "output_type": "execute_result"
    }
   ],
   "source": [
    "dtf = tree.DecisionTreeClassifier()\n",
    "dtf.fit(XY_train, DEF_train)\n",
    "\n",
    "dtf.score(XY_train, DEF_train)"
   ]
  },
  {
   "cell_type": "code",
   "execution_count": 174,
   "metadata": {},
   "outputs": [
    {
     "data": {
      "text/plain": [
       "0.6037735849056604"
      ]
     },
     "execution_count": 174,
     "metadata": {},
     "output_type": "execute_result"
    }
   ],
   "source": [
    "DEF_pred = dtf.predict(XY_test)\n",
    "\n",
    "precision_score(DEF_test, DEF_pred)"
   ]
  },
  {
   "cell_type": "code",
   "execution_count": null,
   "metadata": {},
   "outputs": [],
   "source": []
  },
  {
   "cell_type": "code",
   "execution_count": null,
   "metadata": {},
   "outputs": [],
   "source": []
  }
 ],
 "metadata": {
  "kernelspec": {
   "display_name": "Python 3",
   "language": "python",
   "name": "python3"
  },
  "language_info": {
   "codemirror_mode": {
    "name": "ipython",
    "version": 3
   },
   "file_extension": ".py",
   "mimetype": "text/x-python",
   "name": "python",
   "nbconvert_exporter": "python",
   "pygments_lexer": "ipython3",
   "version": "3.8.5"
  }
 },
 "nbformat": 4,
 "nbformat_minor": 4
}
