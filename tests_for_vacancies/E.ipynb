{
 "cells": [
  {
   "cell_type": "code",
   "execution_count": 116,
   "metadata": {},
   "outputs": [],
   "source": [
    "x1 = '2021-01-01 00:00:00 1000'\n",
    "x2 = '2021-01-31 23:59:59 1000'\n",
    "x3 = '2021-01-24 05:59:59 1000'\n",
    "x = x3"
   ]
  },
  {
   "cell_type": "code",
   "execution_count": 147,
   "metadata": {
    "scrolled": true
   },
   "outputs": [
    {
     "name": "stdout",
     "output_type": "stream",
     "text": [
      "2021-01-01 00:00:00 1000\n",
      "\n"
     ]
    }
   ],
   "source": [
    "import datetime\n",
    "import sys\n",
    "\n",
    "f = open('output.txt', 'w')\n",
    "\n",
    "while True:\n",
    "    x = input()\n",
    "    if x:\n",
    "        dt = x[:19]\n",
    "        summa = int(x[20:])\n",
    "\n",
    "        xdt = datetime.datetime.strptime(dt, '%Y-%m-%d %H:%M:%S')\n",
    "\n",
    "        start = datetime.datetime(2021, 1, 1, 0, 0)\n",
    "        end = datetime.datetime(2021, 1, 31, 23, 59, 59)\n",
    "\n",
    "        sec_before = datetime.timedelta.total_seconds(xdt - start)\n",
    "\n",
    "        if sec_before == 0:\n",
    "            vel = summa\n",
    "        else:\n",
    "            vel = summa / sec_before\n",
    "\n",
    "        sec_after = datetime.timedelta.total_seconds(end - xdt)\n",
    "        ans = float(10000 - summa - vel * sec_after)\n",
    "        f.write('{:.2f}'.format(ans))\n",
    "    else:\n",
    "        break\n",
    "\n",
    "f.close()"
   ]
  },
  {
   "cell_type": "code",
   "execution_count": 149,
   "metadata": {},
   "outputs": [
    {
     "ename": "SyntaxError",
     "evalue": "'return' outside function (<ipython-input-149-4376cd860c82>, line 24)",
     "output_type": "error",
     "traceback": [
      "\u001b[1;36m  File \u001b[1;32m\"<ipython-input-149-4376cd860c82>\"\u001b[1;36m, line \u001b[1;32m24\u001b[0m\n\u001b[1;33m    return '{:.2f}'.format(ans)\u001b[0m\n\u001b[1;37m    ^\u001b[0m\n\u001b[1;31mSyntaxError\u001b[0m\u001b[1;31m:\u001b[0m 'return' outside function\n"
     ]
    }
   ],
   "source": [
    "import datetime\n",
    "import sys\n",
    "\n",
    "while True:\n",
    "    x = input()\n",
    "    if x:\n",
    "        dt = x[:19]\n",
    "        summa = int(x[20:])\n",
    "\n",
    "        xdt = datetime.datetime.strptime(dt, '%Y-%m-%d %H:%M:%S')\n",
    "\n",
    "        start = datetime.datetime(2021, 1, 1, 0, 0)\n",
    "        end = datetime.datetime(2021, 1, 31, 23, 59, 59)\n",
    "\n",
    "        sec_before = datetime.timedelta.total_seconds(xdt - start)\n",
    "\n",
    "        if sec_before == 0:\n",
    "            vel = summa\n",
    "        else:\n",
    "            vel = summa / sec_before\n",
    "\n",
    "        sec_after = datetime.timedelta.total_seconds(end - xdt)\n",
    "        ans = float(10000 - summa - vel * sec_after)\n",
    "        print('{:.2f}'.format(ans))\n",
    "        \n",
    "    else:\n",
    "        break"
   ]
  },
  {
   "cell_type": "code",
   "execution_count": null,
   "metadata": {},
   "outputs": [],
   "source": []
  },
  {
   "cell_type": "code",
   "execution_count": null,
   "metadata": {},
   "outputs": [],
   "source": []
  },
  {
   "cell_type": "code",
   "execution_count": null,
   "metadata": {},
   "outputs": [],
   "source": []
  }
 ],
 "metadata": {
  "kernelspec": {
   "display_name": "Python 3",
   "language": "python",
   "name": "python3"
  },
  "language_info": {
   "codemirror_mode": {
    "name": "ipython",
    "version": 3
   },
   "file_extension": ".py",
   "mimetype": "text/x-python",
   "name": "python",
   "nbconvert_exporter": "python",
   "pygments_lexer": "ipython3",
   "version": "3.8.5"
  }
 },
 "nbformat": 4,
 "nbformat_minor": 4
}
