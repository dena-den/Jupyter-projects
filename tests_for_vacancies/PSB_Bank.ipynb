{
 "cells": [
  {
   "cell_type": "code",
   "execution_count": 113,
   "metadata": {},
   "outputs": [
    {
     "name": "stdout",
     "output_type": "stream",
     "text": [
      "В городе St.Petersburg средняя зарплата - 106 руб.\n",
      "В городе RU средняя зарплата - 121 руб.\n",
      "В городе Moscow средняя зарплата - 198 руб.\n",
      "В городе West средняя зарплата - 370 руб.\n",
      "В городе exCCCP средняя зарплата - 108 руб.\n"
     ]
    }
   ],
   "source": [
    "import pandas as pd\n",
    "Task = pd.read_csv('Задание.csv', index_col='id_ds')\n",
    "for city in list(Task.city.unique()):\n",
    "    df = Task[Task['city'] == city].sort_values('salary').reset_index()\n",
    "    low_quan, high_quan = 0.2 * len(df), 0.8 * len(df)\n",
    "    df = df.query('index > @low_quan & index < @high_quan')\n",
    "    print(f'В городе {city} средняя зарплата - {round(df.salary.mean())} руб.')\n"
   ]
  },
  {
   "cell_type": "code",
   "execution_count": null,
   "metadata": {},
   "outputs": [],
   "source": []
  }
 ],
 "metadata": {
  "kernelspec": {
   "display_name": "Python 3",
   "language": "python",
   "name": "python3"
  },
  "language_info": {
   "codemirror_mode": {
    "name": "ipython",
    "version": 3
   },
   "file_extension": ".py",
   "mimetype": "text/x-python",
   "name": "python",
   "nbconvert_exporter": "python",
   "pygments_lexer": "ipython3",
   "version": "3.8.5"
  }
 },
 "nbformat": 4,
 "nbformat_minor": 4
}
