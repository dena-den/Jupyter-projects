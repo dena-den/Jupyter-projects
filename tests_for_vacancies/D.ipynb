{
 "cells": [
  {
   "cell_type": "code",
   "execution_count": null,
   "metadata": {},
   "outputs": [],
   "source": []
  },
  {
   "cell_type": "code",
   "execution_count": 34,
   "metadata": {},
   "outputs": [
    {
     "name": "stdout",
     "output_type": "stream",
     "text": [
      "10 1\n",
      "6 15\n",
      "8 1 0 3 9 2 6 5 4 7 \n",
      "5\n",
      "Wall time: 3.99 s\n"
     ]
    }
   ],
   "source": [
    "%%time\n",
    "\n",
    "first = input()\n",
    "\n",
    "first = first.split(' ')\n",
    "num_empl = int(first[0])\n",
    "matches = int(first[1])\n",
    "empl = dict.fromkeys(list(range(num_empl)), 0)\n",
    "\n",
    "for i in range(matches):\n",
    "    score = input()\n",
    "    ids = input()\n",
    "\n",
    "    score = score.split(' ')\n",
    "    scoreA = int(int(score[0]) - int(score[1]))\n",
    "    scoreB = int(int(score[1]) - int(score[0]))\n",
    "    idsA = [int(ids) for ids in ids.split(' ')[0:5]]\n",
    "    idsB = [int(ids) for ids in ids.split(' ')[5:10]]\n",
    "\n",
    "    for persA in idsA:\n",
    "        empl[persA] += scoreA\n",
    "    for persB in idsB:\n",
    "        empl[persB] += scoreB\n",
    "\n",
    "    print(len([ids for ids in empl if empl[ids] > empl[0]]))"
   ]
  },
  {
   "cell_type": "code",
   "execution_count": 12,
   "metadata": {},
   "outputs": [],
   "source": [
    "empl = dict.fromkeys(list(range(10)), 0)"
   ]
  },
  {
   "cell_type": "code",
   "execution_count": 13,
   "metadata": {},
   "outputs": [
    {
     "data": {
      "text/plain": [
       "{0: 0, 1: 0, 2: 0, 3: 0, 4: 0, 5: 0, 6: 0, 7: 0, 8: 0, 9: 0}"
      ]
     },
     "execution_count": 13,
     "metadata": {},
     "output_type": "execute_result"
    }
   ],
   "source": [
    "empl"
   ]
  },
  {
   "cell_type": "code",
   "execution_count": null,
   "metadata": {},
   "outputs": [],
   "source": []
  }
 ],
 "metadata": {
  "kernelspec": {
   "display_name": "Python 3",
   "language": "python",
   "name": "python3"
  },
  "language_info": {
   "codemirror_mode": {
    "name": "ipython",
    "version": 3
   },
   "file_extension": ".py",
   "mimetype": "text/x-python",
   "name": "python",
   "nbconvert_exporter": "python",
   "pygments_lexer": "ipython3",
   "version": "3.8.5"
  }
 },
 "nbformat": 4,
 "nbformat_minor": 4
}
