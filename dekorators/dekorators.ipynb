{
 "cells": [
  {
   "cell_type": "code",
   "execution_count": 1,
   "metadata": {},
   "outputs": [],
   "source": [
    "def decorator(func):\n",
    "    def wrapper(hand):\n",
    "        print('Move before')\n",
    "        func(hand)\n",
    "        print('Move after')\n",
    "    return wrapper\n",
    "\n",
    "def func(hand='right'):\n",
    "    print('Attack {}'.format(hand))\n",
    "\n",
    "func = decorator(func)"
   ]
  },
  {
   "cell_type": "code",
   "execution_count": 2,
   "metadata": {},
   "outputs": [
    {
     "name": "stdout",
     "output_type": "stream",
     "text": [
      "Move before\n",
      "Attack left\n",
      "Move after\n"
     ]
    }
   ],
   "source": [
    "func('left')"
   ]
  },
  {
   "cell_type": "code",
   "execution_count": 8,
   "metadata": {},
   "outputs": [],
   "source": [
    "@decorator\n",
    "def func2(hand='right'):\n",
    "    print('Defend {}'.format(hand))"
   ]
  },
  {
   "cell_type": "code",
   "execution_count": 9,
   "metadata": {},
   "outputs": [
    {
     "name": "stdout",
     "output_type": "stream",
     "text": [
      "Move before\n",
      "Defend left\n",
      "Move after\n"
     ]
    }
   ],
   "source": [
    "func2('left')"
   ]
  },
  {
   "cell_type": "code",
   "execution_count": 10,
   "metadata": {},
   "outputs": [],
   "source": [
    "def method_friendly_decorator(method_to_decorate):\n",
    "    def wrapper(self, lie):\n",
    "        lie -= 3\n",
    "        return method_to_decorate(self, lie)\n",
    "    return wrapper\n",
    "\n",
    "class Lucy:\n",
    "    def __init__(self):\n",
    "        self.age = 32\n",
    "    @method_friendly_decorator\n",
    "    def sayYourAge(self, lie):\n",
    "        print(\"Мне {} лет, а ты бы сколько дал?\".format(self.age + lie))"
   ]
  },
  {
   "cell_type": "code",
   "execution_count": 14,
   "metadata": {},
   "outputs": [
    {
     "name": "stdout",
     "output_type": "stream",
     "text": [
      "Мне 52 лет, а ты бы сколько дал?\n"
     ]
    }
   ],
   "source": [
    "l=Lucy()\n",
    "l.sayYourAge(23)"
   ]
  },
  {
   "cell_type": "code",
   "execution_count": 15,
   "metadata": {},
   "outputs": [],
   "source": [
    "def decorator(func):\n",
    "    def wraper(*args, **kwargs):\n",
    "        print(args, kwargs)\n",
    "        team(*args, **kwargs)\n",
    "    return wraper"
   ]
  },
  {
   "cell_type": "code",
   "execution_count": 25,
   "metadata": {},
   "outputs": [],
   "source": [
    "class team:\n",
    "    def __init__(self):\n",
    "        self.rating = 95\n",
    "    @decorator\n",
    "    def sayYourRating(self, lie=5):\n",
    "        print('My rating is {}!'.format(self.rating + lie))   "
   ]
  },
  {
   "cell_type": "code",
   "execution_count": 26,
   "metadata": {},
   "outputs": [
    {
     "name": "stdout",
     "output_type": "stream",
     "text": [
      "(<__main__.team object at 0x000001C458C00700>,) {}\n",
      "My rating is 100!\n"
     ]
    }
   ],
   "source": [
    "first = team()\n",
    "first.sayYourRating()"
   ]
  },
  {
   "cell_type": "code",
   "execution_count": 3,
   "metadata": {},
   "outputs": [
    {
     "data": {
      "text/plain": [
       "[1, 2, 3, 4, 5, 6]"
      ]
     },
     "execution_count": 3,
     "metadata": {},
     "output_type": "execute_result"
    }
   ],
   "source": [
    "a = [1,2,3]\n",
    "b = [*a,4,5,6]\n",
    "b"
   ]
  },
  {
   "cell_type": "code",
   "execution_count": 12,
   "metadata": {},
   "outputs": [
    {
     "data": {
      "text/plain": [
       "[[(1, 1), (2, 2), (3, 3)], 4, 5, 6]"
      ]
     },
     "execution_count": 12,
     "metadata": {},
     "output_type": "execute_result"
    }
   ],
   "source": [
    "b = [list(zip(a,a)),4,5,6]\n",
    "b"
   ]
  },
  {
   "cell_type": "code",
   "execution_count": null,
   "metadata": {},
   "outputs": [],
   "source": []
  }
 ],
 "metadata": {
  "kernelspec": {
   "display_name": "Python 3",
   "language": "python",
   "name": "python3"
  },
  "language_info": {
   "codemirror_mode": {
    "name": "ipython",
    "version": 3
   },
   "file_extension": ".py",
   "mimetype": "text/x-python",
   "name": "python",
   "nbconvert_exporter": "python",
   "pygments_lexer": "ipython3",
   "version": "3.8.5"
  }
 },
 "nbformat": 4,
 "nbformat_minor": 4
}
