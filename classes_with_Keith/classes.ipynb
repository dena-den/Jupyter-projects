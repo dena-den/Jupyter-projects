{
 "cells": [
  {
   "cell_type": "code",
   "execution_count": 56,
   "metadata": {},
   "outputs": [],
   "source": [
    "import matplotlib.pyplot as plt"
   ]
  },
  {
   "cell_type": "code",
   "execution_count": 44,
   "metadata": {},
   "outputs": [],
   "source": [
    "class Polygon:\n",
    "    def __init__(self, angles, name, size=100):\n",
    "        self.angles = angles\n",
    "        self.name = name\n",
    "        self.size = size\n",
    "        self.interior_angles = (self.angles - 2)*180\n",
    "        self.one_angle = self.interior_angles / self.angles\n",
    "        \n",
    "    def draw(self):\n",
    "        print('This {} have {} grad.'.format(self.name, self.one_angle))\n",
    "        \n",
    "    def total_gradus(self):\n",
    "        self.total = self.one_angle * self.angles\n",
    "        if self.total == self.interior_angles:\n",
    "            print(True, '{} grad'.format(self.total))\n",
    "        else:\n",
    "            print(False)"
   ]
  },
  {
   "cell_type": "code",
   "execution_count": 48,
   "metadata": {},
   "outputs": [],
   "source": [
    "pentagon = Polygon(5, 'pentagon', 10)\n",
    "hexagon = Polygon(6, 'hexagon', 10)"
   ]
  },
  {
   "cell_type": "code",
   "execution_count": 42,
   "metadata": {},
   "outputs": [
    {
     "name": "stdout",
     "output_type": "stream",
     "text": [
      "This hexagon have 120.0 grad.\n"
     ]
    }
   ],
   "source": [
    "hexagon.draw()"
   ]
  },
  {
   "cell_type": "code",
   "execution_count": 43,
   "metadata": {},
   "outputs": [
    {
     "name": "stdout",
     "output_type": "stream",
     "text": [
      "True 720.0 grad\n"
     ]
    }
   ],
   "source": [
    "hexagon.total_gradus()"
   ]
  },
  {
   "cell_type": "code",
   "execution_count": 53,
   "metadata": {},
   "outputs": [],
   "source": [
    "class Square(Polygon):\n",
    "    def __init__(self, size=100):\n",
    "        super().__init__(4, 'square', size)\n",
    "        \n",
    "    def draw(self):\n",
    "        #something useful\n",
    "        super.draw()\n",
    "        #something useful"
   ]
  },
  {
   "cell_type": "code",
   "execution_count": 52,
   "metadata": {},
   "outputs": [
    {
     "name": "stdout",
     "output_type": "stream",
     "text": [
      "This square have 90.0 grad.\n"
     ]
    }
   ],
   "source": [
    "square = Square(size=10)\n",
    "square.draw()"
   ]
  },
  {
   "cell_type": "code",
   "execution_count": 49,
   "metadata": {},
   "outputs": [
    {
     "name": "stdout",
     "output_type": "stream",
     "text": [
      "True 360.0 grad\n"
     ]
    }
   ],
   "source": [
    "square.total_gradus()"
   ]
  },
  {
   "cell_type": "code",
   "execution_count": 64,
   "metadata": {},
   "outputs": [],
   "source": [
    "class Point:\n",
    "    def __init__(self, x, y):\n",
    "        self.x = x\n",
    "        self.y = y\n",
    "        \n",
    "    def __add__(self, other):\n",
    "        if isinstance(other, Point): \n",
    "            x = self.x + other.x\n",
    "            y = self.y + other.y\n",
    "            return Point(x,y)\n",
    "        else:\n",
    "            x = self.x + other\n",
    "            y = self.y + other\n",
    "            return Point(x,y)\n",
    "    \n",
    "    def plot(self):\n",
    "        plt.scatter(self.x, self.y)"
   ]
  },
  {
   "cell_type": "code",
   "execution_count": 66,
   "metadata": {},
   "outputs": [
    {
     "name": "stdout",
     "output_type": "stream",
     "text": [
      "10 12\n"
     ]
    },
    {
     "data": {
      "image/png": "[encoded data removed]",
      "text/plain": [
       "<Figure size 432x288 with 1 Axes>"
      ]
     },
     "metadata": {
      "needs_background": "light"
     },
     "output_type": "display_data"
    }
   ],
   "source": [
    "a = Point(4,5)\n",
    "b = Point(6,7)\n",
    "c = a + b\n",
    "print(c.x, c.y)\n",
    "c.plot()\n",
    "plt.show()"
   ]
  },
  {
   "cell_type": "code",
   "execution_count": 69,
   "metadata": {},
   "outputs": [
    {
     "name": "stdout",
     "output_type": "stream",
     "text": [
      "5 7\n"
     ]
    }
   ],
   "source": [
    "d = Point(0,2)\n",
    "e = d + 5\n",
    "print(e.x, e.y)"
   ]
  },
  {
   "cell_type": "code",
   "execution_count": null,
   "metadata": {},
   "outputs": [],
   "source": []
  },
  {
   "cell_type": "code",
   "execution_count": 93,
   "metadata": {},
   "outputs": [],
   "source": [
    "from os.path import join\n",
    "\n",
    "class FileObject:\n",
    "    '''Обёртка для файлового объекта, чтобы быть уверенным в том, \n",
    "    что файл будет закрыт при удалении.'''\n",
    "\n",
    "    def __init__(self, filepath='.', filename='test.txt'):\n",
    "        # открыть файл filename в filepath в режиме чтения и записи\n",
    "        self.filename = filename\n",
    "        self.file = open(join(filepath, self.filename), 'r+')\n",
    "        print('{} is open.'.format(self.filename))\n",
    "\n",
    "    def __del__(self):\n",
    "        print('{} is closing.'.format(self.filename))\n",
    "        self.file.close()\n",
    "        del self.file"
   ]
  },
  {
   "cell_type": "code",
   "execution_count": 94,
   "metadata": {},
   "outputs": [
    {
     "name": "stdout",
     "output_type": "stream",
     "text": [
      "test.txt is open.\n",
      "test.txt is closing.\n"
     ]
    }
   ],
   "source": [
    "pathway = FileObject()"
   ]
  },
  {
   "cell_type": "code",
   "execution_count": null,
   "metadata": {},
   "outputs": [],
   "source": []
  },
  {
   "cell_type": "code",
   "execution_count": 116,
   "metadata": {},
   "outputs": [],
   "source": [
    "class Equaler:\n",
    "    def __init__(self, size):\n",
    "        self.size = size\n",
    "        \n",
    "    def __eq__(self, other):\n",
    "        return self is other"
   ]
  },
  {
   "cell_type": "code",
   "execution_count": 117,
   "metadata": {},
   "outputs": [],
   "source": [
    "a = Equaler(5)\n",
    "b = Equaler(5)"
   ]
  },
  {
   "cell_type": "code",
   "execution_count": 118,
   "metadata": {},
   "outputs": [
    {
     "data": {
      "text/plain": [
       "False"
      ]
     },
     "execution_count": 118,
     "metadata": {},
     "output_type": "execute_result"
    }
   ],
   "source": [
    "a == b"
   ]
  },
  {
   "cell_type": "code",
   "execution_count": 119,
   "metadata": {},
   "outputs": [
    {
     "data": {
      "text/plain": [
       "True"
      ]
     },
     "execution_count": 119,
     "metadata": {},
     "output_type": "execute_result"
    }
   ],
   "source": [
    "a == a"
   ]
  },
  {
   "cell_type": "code",
   "execution_count": null,
   "metadata": {},
   "outputs": [],
   "source": []
  },
  {
   "cell_type": "markdown",
   "metadata": {},
   "source": [
    "### Solving tasks"
   ]
  },
  {
   "cell_type": "code",
   "execution_count": 30,
   "metadata": {},
   "outputs": [],
   "source": [
    "class TriangleChecker():\n",
    "    __slots__ = ('sides') # допустим только 1 атрибут\n",
    "    \n",
    "    def __init__(self, sides):\n",
    "        self.sides = sides\n",
    "        \n",
    "    def is_triangle(self):\n",
    "            if all(isinstance(side, (int, float)) for side in self.sides):\n",
    "                if all(side > 0 for side in self.sides):\n",
    "                    sorted_sides = sorted(self.sides)\n",
    "                    if sorted_sides[0] + sorted_sides[1] > sorted_sides[2]:\n",
    "                        return 'Ура, можно построить треугольник!'\n",
    "                    return 'Жаль, но из этого треугольник не сделать'\n",
    "                return 'С отрицательными числами ничего не выйдет!'\n",
    "            return 'Нужно вводить только числа!'"
   ]
  },
  {
   "cell_type": "code",
   "execution_count": 31,
   "metadata": {},
   "outputs": [
    {
     "data": {
      "text/plain": [
       "'Ура, можно построить треугольник!'"
      ]
     },
     "execution_count": 31,
     "metadata": {},
     "output_type": "execute_result"
    }
   ],
   "source": [
    "check = TriangleChecker([5,4,3])\n",
    "check.is_triangle()"
   ]
  },
  {
   "cell_type": "code",
   "execution_count": null,
   "metadata": {},
   "outputs": [],
   "source": []
  }
 ],
 "metadata": {
  "kernelspec": {
   "display_name": "Python 3",
   "language": "python",
   "name": "python3"
  },
  "language_info": {
   "codemirror_mode": {
    "name": "ipython",
    "version": 3
   },
   "file_extension": ".py",
   "mimetype": "text/x-python",
   "name": "python",
   "nbconvert_exporter": "python",
   "pygments_lexer": "ipython3",
   "version": "3.8.5"
  }
 },
 "nbformat": 4,
 "nbformat_minor": 4
}
