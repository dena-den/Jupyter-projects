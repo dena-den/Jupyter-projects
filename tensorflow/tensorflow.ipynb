{
 "cells": [
  {
   "cell_type": "code",
   "execution_count": 90,
   "metadata": {},
   "outputs": [],
   "source": [
    "import pandas as pd\n",
    "import numpy as np\n",
    "import matplotlib.pyplot as plt\n",
    "import tensorflow as tf"
   ]
  },
  {
   "cell_type": "markdown",
   "metadata": {},
   "source": [
    "### Module 2"
   ]
  },
  {
   "cell_type": "code",
   "execution_count": 91,
   "metadata": {},
   "outputs": [
    {
     "data": {
      "text/plain": [
       "<module 'tensorflow._api.v2.version' from 'A:\\\\2PROGRAMMS\\\\Anaconda\\\\lib\\\\site-packages\\\\tensorflow\\\\_api\\\\v2\\\\version\\\\__init__.py'>"
      ]
     },
     "execution_count": 91,
     "metadata": {},
     "output_type": "execute_result"
    }
   ],
   "source": [
    "tf.version"
   ]
  },
  {
   "cell_type": "markdown",
   "metadata": {},
   "source": [
    "##### Создаем tensor - 0-rank (scalar)"
   ]
  },
  {
   "cell_type": "code",
   "execution_count": 92,
   "metadata": {},
   "outputs": [],
   "source": [
    "number = tf.Variable(324, tf.int16)"
   ]
  },
  {
   "cell_type": "markdown",
   "metadata": {},
   "source": [
    "##### 1-rank (vector), 2-rank (metricy)"
   ]
  },
  {
   "cell_type": "code",
   "execution_count": 93,
   "metadata": {},
   "outputs": [],
   "source": [
    "rank1_tensor = tf.Variable([\"Test\"], tf.string) \n",
    "rank2_tensor = tf.Variable([[\"test\", \"ok\"], [\"test\", \"yes\"]], tf.string)"
   ]
  },
  {
   "cell_type": "code",
   "execution_count": 94,
   "metadata": {},
   "outputs": [
    {
     "data": {
      "text/plain": [
       "<tf.Tensor: shape=(), dtype=int32, numpy=2>"
      ]
     },
     "execution_count": 94,
     "metadata": {},
     "output_type": "execute_result"
    }
   ],
   "source": [
    "tf.rank(rank2_tensor)"
   ]
  },
  {
   "cell_type": "code",
   "execution_count": 95,
   "metadata": {},
   "outputs": [
    {
     "data": {
      "text/plain": [
       "TensorShape([2, 2])"
      ]
     },
     "execution_count": 95,
     "metadata": {},
     "output_type": "execute_result"
    }
   ],
   "source": [
    "rank2_tensor.shape"
   ]
  },
  {
   "cell_type": "code",
   "execution_count": 96,
   "metadata": {},
   "outputs": [],
   "source": [
    "t = tf.zeros([5,5,5])"
   ]
  },
  {
   "cell_type": "code",
   "execution_count": 97,
   "metadata": {},
   "outputs": [],
   "source": [
    "t = tf.reshape(t, [25,-1])"
   ]
  },
  {
   "cell_type": "markdown",
   "metadata": {},
   "source": [
    "### Module 3"
   ]
  },
  {
   "cell_type": "markdown",
   "metadata": {},
   "source": [
    "#### LinearRegression"
   ]
  },
  {
   "cell_type": "code",
   "execution_count": 98,
   "metadata": {},
   "outputs": [],
   "source": [
    "from __future__ import absolute_import, division, print_function, unicode_literals\n",
    "\n",
    "from IPython.display import clear_output\n",
    "from six.moves import urllib\n",
    "\n",
    "import tensorflow.compat.v2.feature_column as fc"
   ]
  },
  {
   "cell_type": "code",
   "execution_count": 99,
   "metadata": {},
   "outputs": [],
   "source": [
    "dftrain = pd.read_csv('https://storage.googleapis.com/tf-datasets/titanic/train.csv') # training data\n",
    "dfeval = pd.read_csv('https://storage.googleapis.com/tf-datasets/titanic/eval.csv') # testing data\n",
    "y_train = dftrain.pop('survived')\n",
    "y_eval = dfeval.pop('survived')"
   ]
  },
  {
   "cell_type": "code",
   "execution_count": 100,
   "metadata": {},
   "outputs": [
    {
     "name": "stdout",
     "output_type": "stream",
     "text": [
      "[VocabularyListCategoricalColumn(key='sex', vocabulary_list=('male', 'female'), dtype=tf.string, default_value=-1, num_oov_buckets=0), VocabularyListCategoricalColumn(key='n_siblings_spouses', vocabulary_list=(1, 0, 3, 4, 2, 5, 8), dtype=tf.int64, default_value=-1, num_oov_buckets=0), VocabularyListCategoricalColumn(key='parch', vocabulary_list=(0, 1, 2, 5, 3, 4), dtype=tf.int64, default_value=-1, num_oov_buckets=0), VocabularyListCategoricalColumn(key='class', vocabulary_list=('Third', 'First', 'Second'), dtype=tf.string, default_value=-1, num_oov_buckets=0), VocabularyListCategoricalColumn(key='deck', vocabulary_list=('unknown', 'C', 'G', 'A', 'B', 'D', 'F', 'E'), dtype=tf.string, default_value=-1, num_oov_buckets=0), VocabularyListCategoricalColumn(key='embark_town', vocabulary_list=('Southampton', 'Cherbourg', 'Queenstown', 'unknown'), dtype=tf.string, default_value=-1, num_oov_buckets=0), VocabularyListCategoricalColumn(key='alone', vocabulary_list=('n', 'y'), dtype=tf.string, default_value=-1, num_oov_buckets=0), NumericColumn(key='age', shape=(1,), default_value=None, dtype=tf.float32, normalizer_fn=None), NumericColumn(key='fare', shape=(1,), default_value=None, dtype=tf.float32, normalizer_fn=None)]\n"
     ]
    }
   ],
   "source": [
    "CATEGORICAL_COLUMNS = ['sex', 'n_siblings_spouses', 'parch', 'class', 'deck',\n",
    "                       'embark_town', 'alone']\n",
    "NUMERIC_COLUMNS = ['age', 'fare']\n",
    "\n",
    "feature_columns = []\n",
    "for feature_name in CATEGORICAL_COLUMNS:\n",
    "  vocabulary = dftrain[feature_name].unique()  # gets a list of all unique values from given feature column\n",
    "  feature_columns.append(tf.feature_column.categorical_column_with_vocabulary_list(feature_name, vocabulary))\n",
    "\n",
    "for feature_name in NUMERIC_COLUMNS:\n",
    "  feature_columns.append(tf.feature_column.numeric_column(feature_name, dtype=tf.float32))\n",
    "\n",
    "print(feature_columns)"
   ]
  },
  {
   "cell_type": "code",
   "execution_count": 101,
   "metadata": {},
   "outputs": [],
   "source": [
    "def make_input_fn(data_df, label_df, num_epochs=10, shuffle=True, batch_size=32):\n",
    "  def input_function():  # inner function, this will be returned\n",
    "    ds = tf.data.Dataset.from_tensor_slices((dict(data_df), label_df))  # create tf.data.Dataset object with data and its label\n",
    "    if shuffle:\n",
    "      ds = ds.shuffle(1000)  # randomize order of data\n",
    "    ds = ds.batch(batch_size).repeat(num_epochs)  # split dataset into batches of 32 and repeat process for number of epochs\n",
    "    return ds  # return a batch of the dataset\n",
    "  return input_function  # return a function object for use\n",
    "\n",
    "train_input_fn = make_input_fn(dftrain, y_train)  # here we will call the input_function that was returned to us to get a dataset object we can feed to the model\n",
    "eval_input_fn = make_input_fn(dfeval, y_eval, num_epochs=1, shuffle=False)\n"
   ]
  },
  {
   "cell_type": "code",
   "execution_count": 102,
   "metadata": {},
   "outputs": [
    {
     "name": "stdout",
     "output_type": "stream",
     "text": [
      "INFO:tensorflow:Using default config.\n",
      "WARNING:tensorflow:Using temporary folder as model directory: C:\\Users\\denis\\AppData\\Local\\Temp\\tmp0biplfp8\n",
      "INFO:tensorflow:Using config: {'_model_dir': 'C:\\\\Users\\\\denis\\\\AppData\\\\Local\\\\Temp\\\\tmp0biplfp8', '_tf_random_seed': None, '_save_summary_steps': 100, '_save_checkpoints_steps': None, '_save_checkpoints_secs': 600, '_session_config': allow_soft_placement: true\n",
      "graph_options {\n",
      "  rewrite_options {\n",
      "    meta_optimizer_iterations: ONE\n",
      "  }\n",
      "}\n",
      ", '_keep_checkpoint_max': 5, '_keep_checkpoint_every_n_hours': 10000, '_log_step_count_steps': 100, '_train_distribute': None, '_device_fn': None, '_protocol': None, '_eval_distribute': None, '_experimental_distribute': None, '_experimental_max_worker_delay_secs': None, '_session_creation_timeout_secs': 7200, '_checkpoint_save_graph_def': True, '_service': None, '_cluster_spec': ClusterSpec({}), '_task_type': 'worker', '_task_id': 0, '_global_id_in_cluster': 0, '_master': '', '_evaluation_master': '', '_is_chief': True, '_num_ps_replicas': 0, '_num_worker_replicas': 1}\n"
     ]
    }
   ],
   "source": [
    "linear_est = tf.estimator.LinearClassifier(feature_columns=feature_columns)\n",
    "# We create a linear estimtor by passing the feature columns we created earlier"
   ]
  },
  {
   "cell_type": "code",
   "execution_count": 103,
   "metadata": {},
   "outputs": [
    {
     "name": "stdout",
     "output_type": "stream",
     "text": [
      "0.7689394\n"
     ]
    }
   ],
   "source": [
    "linear_est.train(train_input_fn)  # train\n",
    "result = linear_est.evaluate(eval_input_fn)  # get model metrics/stats by testing on tetsing data\n",
    "\n",
    "clear_output()  # clears console output\n",
    "print(result['accuracy'])  # the result variable is simply a dict of stats about our model"
   ]
  },
  {
   "cell_type": "code",
   "execution_count": 104,
   "metadata": {},
   "outputs": [
    {
     "name": "stdout",
     "output_type": "stream",
     "text": [
      "INFO:tensorflow:Calling model_fn.\n",
      "INFO:tensorflow:Done calling model_fn.\n",
      "INFO:tensorflow:Graph was finalized.\n",
      "INFO:tensorflow:Restoring parameters from C:\\Users\\denis\\AppData\\Local\\Temp\\tmp0biplfp8\\model.ckpt-200\n",
      "INFO:tensorflow:Running local_init_op.\n",
      "INFO:tensorflow:Done running local_init_op.\n"
     ]
    },
    {
     "data": {
      "text/plain": [
       "<AxesSubplot:title={'center':'predicted probabilities'}, ylabel='Frequency'>"
      ]
     },
     "execution_count": 104,
     "metadata": {},
     "output_type": "execute_result"
    },
    {
     "data": {
      "image/png": "[encoded data removed]",
      "text/plain": [
       "<Figure size 432x288 with 1 Axes>"
      ]
     },
     "metadata": {
      "needs_background": "light"
     },
     "output_type": "display_data"
    }
   ],
   "source": [
    "pred_dicts = list(linear_est.predict(eval_input_fn))\n",
    "probs = pd.Series([pred['probabilities'][1] for pred in pred_dicts])\n",
    "\n",
    "probs.plot(kind='hist', bins=20, title='predicted probabilities')"
   ]
  },
  {
   "cell_type": "markdown",
   "metadata": {},
   "source": [
    "#### Classification"
   ]
  },
  {
   "cell_type": "code",
   "execution_count": 105,
   "metadata": {},
   "outputs": [],
   "source": [
    "from __future__ import absolute_import, division, print_function, unicode_literals"
   ]
  },
  {
   "cell_type": "code",
   "execution_count": 106,
   "metadata": {},
   "outputs": [],
   "source": [
    "CSV_COLUMN_NAMES = ['SepalLength', 'SepalWidth', 'PetalLength', 'PetalWidth', 'Species']\n",
    "SPECIES = ['Setosa', 'Versicolor', 'Virginica']\n",
    "# Lets define some constants to help us later on"
   ]
  },
  {
   "cell_type": "code",
   "execution_count": 107,
   "metadata": {},
   "outputs": [],
   "source": [
    "train_path = tf.keras.utils.get_file(\n",
    "    \"iris_training.csv\", \"https://storage.googleapis.com/download.tensorflow.org/data/iris_training.csv\")\n",
    "test_path = tf.keras.utils.get_file(\n",
    "    \"iris_test.csv\", \"https://storage.googleapis.com/download.tensorflow.org/data/iris_test.csv\")\n",
    "\n",
    "train = pd.read_csv(train_path, names=CSV_COLUMN_NAMES, header=0)\n",
    "test = pd.read_csv(test_path, names=CSV_COLUMN_NAMES, header=0)\n",
    "# Here we use keras (a module inside of TensorFlow) to grab our datasets and read them into a pandas dataframe"
   ]
  },
  {
   "cell_type": "code",
   "execution_count": 108,
   "metadata": {},
   "outputs": [],
   "source": [
    "train_y = train.pop('Species')\n",
    "test_y = test.pop('Species')"
   ]
  },
  {
   "cell_type": "code",
   "execution_count": 109,
   "metadata": {},
   "outputs": [],
   "source": [
    "def input_fn(features, labels, training=True, batch_size=256):\n",
    "    # Convert the inputs to a Dataset.\n",
    "    dataset = tf.data.Dataset.from_tensor_slices((dict(features), labels))\n",
    "\n",
    "    # Shuffle and repeat if you are in training mode.\n",
    "    if training:\n",
    "        dataset = dataset.shuffle(1000).repeat()\n",
    "    \n",
    "    return dataset.batch(batch_size)"
   ]
  },
  {
   "cell_type": "code",
   "execution_count": 74,
   "metadata": {},
   "outputs": [
    {
     "name": "stdout",
     "output_type": "stream",
     "text": [
      "[NumericColumn(key='SepalLength', shape=(1,), default_value=None, dtype=tf.float32, normalizer_fn=None), NumericColumn(key='SepalWidth', shape=(1,), default_value=None, dtype=tf.float32, normalizer_fn=None), NumericColumn(key='PetalLength', shape=(1,), default_value=None, dtype=tf.float32, normalizer_fn=None), NumericColumn(key='PetalWidth', shape=(1,), default_value=None, dtype=tf.float32, normalizer_fn=None)]\n"
     ]
    }
   ],
   "source": [
    "# Feature columns describe how to use the input.\n",
    "my_feature_columns = []\n",
    "for key in train.keys():\n",
    "    my_feature_columns.append(tf.feature_column.numeric_column(key=key))\n",
    "print(my_feature_columns)"
   ]
  },
  {
   "cell_type": "code",
   "execution_count": 75,
   "metadata": {},
   "outputs": [
    {
     "name": "stdout",
     "output_type": "stream",
     "text": [
      "INFO:tensorflow:Using default config.\n",
      "WARNING:tensorflow:Using temporary folder as model directory: C:\\Users\\denis\\AppData\\Local\\Temp\\tmp4lshitm1\n",
      "INFO:tensorflow:Using config: {'_model_dir': 'C:\\\\Users\\\\denis\\\\AppData\\\\Local\\\\Temp\\\\tmp4lshitm1', '_tf_random_seed': None, '_save_summary_steps': 100, '_save_checkpoints_steps': None, '_save_checkpoints_secs': 600, '_session_config': allow_soft_placement: true\n",
      "graph_options {\n",
      "  rewrite_options {\n",
      "    meta_optimizer_iterations: ONE\n",
      "  }\n",
      "}\n",
      ", '_keep_checkpoint_max': 5, '_keep_checkpoint_every_n_hours': 10000, '_log_step_count_steps': 100, '_train_distribute': None, '_device_fn': None, '_protocol': None, '_eval_distribute': None, '_experimental_distribute': None, '_experimental_max_worker_delay_secs': None, '_session_creation_timeout_secs': 7200, '_checkpoint_save_graph_def': True, '_service': None, '_cluster_spec': ClusterSpec({}), '_task_type': 'worker', '_task_id': 0, '_global_id_in_cluster': 0, '_master': '', '_evaluation_master': '', '_is_chief': True, '_num_ps_replicas': 0, '_num_worker_replicas': 1}\n"
     ]
    }
   ],
   "source": [
    "# Build a DNN with 2 hidden layers with 30 and 10 hidden nodes each.\n",
    "classifier = tf.estimator.DNNClassifier(\n",
    "    feature_columns=my_feature_columns,\n",
    "    # Two hidden layers of 30 and 10 nodes respectively.\n",
    "    hidden_units=[30, 10],\n",
    "    # The model must choose between 3 classes.\n",
    "    n_classes=3)"
   ]
  },
  {
   "cell_type": "code",
   "execution_count": 84,
   "metadata": {
    "collapsed": true
   },
   "outputs": [
    {
     "name": "stdout",
     "output_type": "stream",
     "text": [
      "INFO:tensorflow:Calling model_fn.\n",
      "INFO:tensorflow:Done calling model_fn.\n",
      "INFO:tensorflow:Create CheckpointSaverHook.\n",
      "INFO:tensorflow:Graph was finalized.\n",
      "INFO:tensorflow:Running local_init_op.\n",
      "INFO:tensorflow:Done running local_init_op.\n",
      "INFO:tensorflow:Calling checkpoint listeners before saving checkpoint 0...\n",
      "INFO:tensorflow:Saving checkpoints for 0 into C:\\Users\\denis\\AppData\\Local\\Temp\\tmp4lshitm1\\model.ckpt.\n",
      "INFO:tensorflow:Calling checkpoint listeners after saving checkpoint 0...\n",
      "INFO:tensorflow:loss = 1.4525614, step = 0\n",
      "INFO:tensorflow:global_step/sec: 282.403\n",
      "INFO:tensorflow:loss = 1.1925461, step = 100 (0.354 sec)\n",
      "INFO:tensorflow:global_step/sec: 380.273\n",
      "INFO:tensorflow:loss = 1.151899, step = 200 (0.263 sec)\n",
      "INFO:tensorflow:global_step/sec: 419.765\n",
      "INFO:tensorflow:loss = 1.1094139, step = 300 (0.254 sec)\n",
      "INFO:tensorflow:global_step/sec: 380.258\n",
      "INFO:tensorflow:loss = 1.0699682, step = 400 (0.263 sec)\n",
      "INFO:tensorflow:global_step/sec: 393.925\n",
      "INFO:tensorflow:loss = 1.0655336, step = 500 (0.238 sec)\n",
      "INFO:tensorflow:global_step/sec: 380.278\n",
      "INFO:tensorflow:loss = 1.0356348, step = 600 (0.263 sec)\n",
      "INFO:tensorflow:global_step/sec: 393.906\n",
      "INFO:tensorflow:loss = 1.023319, step = 700 (0.269 sec)\n",
      "INFO:tensorflow:global_step/sec: 404.3\n",
      "INFO:tensorflow:loss = 1.0068772, step = 800 (0.247 sec)\n",
      "INFO:tensorflow:global_step/sec: 371.093\n",
      "INFO:tensorflow:loss = 0.9959657, step = 900 (0.254 sec)\n",
      "INFO:tensorflow:global_step/sec: 393.933\n",
      "INFO:tensorflow:loss = 0.98042285, step = 1000 (0.254 sec)\n",
      "INFO:tensorflow:global_step/sec: 404.286\n",
      "INFO:tensorflow:loss = 0.9577633, step = 1100 (0.247 sec)\n",
      "INFO:tensorflow:global_step/sec: 393.93\n",
      "INFO:tensorflow:loss = 0.9472259, step = 1200 (0.269 sec)\n",
      "INFO:tensorflow:global_step/sec: 339.893\n",
      "INFO:tensorflow:loss = 0.94486284, step = 1300 (0.285 sec)\n",
      "INFO:tensorflow:global_step/sec: 419.739\n",
      "INFO:tensorflow:loss = 0.92494804, step = 1400 (0.247 sec)\n",
      "INFO:tensorflow:global_step/sec: 350.754\n",
      "INFO:tensorflow:loss = 0.91591007, step = 1500 (0.269 sec)\n",
      "INFO:tensorflow:global_step/sec: 350.746\n",
      "INFO:tensorflow:loss = 0.9088545, step = 1600 (0.285 sec)\n",
      "INFO:tensorflow:global_step/sec: 404.268\n",
      "INFO:tensorflow:loss = 0.8836636, step = 1700 (0.247 sec)\n",
      "INFO:tensorflow:global_step/sec: 393.905\n",
      "INFO:tensorflow:loss = 0.8890151, step = 1800 (0.254 sec)\n",
      "INFO:tensorflow:global_step/sec: 380.273\n",
      "INFO:tensorflow:loss = 0.87632966, step = 1900 (0.263 sec)\n",
      "INFO:tensorflow:global_step/sec: 371.094\n",
      "INFO:tensorflow:loss = 0.85005593, step = 2000 (0.269 sec)\n",
      "INFO:tensorflow:global_step/sec: 371.075\n",
      "INFO:tensorflow:loss = 0.8511647, step = 2100 (0.285 sec)\n",
      "INFO:tensorflow:global_step/sec: 380.251\n",
      "INFO:tensorflow:loss = 0.82909393, step = 2200 (0.247 sec)\n",
      "INFO:tensorflow:global_step/sec: 371.055\n",
      "INFO:tensorflow:loss = 0.8419878, step = 2300 (0.285 sec)\n",
      "INFO:tensorflow:global_step/sec: 371.101\n",
      "INFO:tensorflow:loss = 0.8209417, step = 2400 (0.269 sec)\n",
      "INFO:tensorflow:global_step/sec: 380.273\n",
      "INFO:tensorflow:loss = 0.8292711, step = 2500 (0.263 sec)\n",
      "INFO:tensorflow:global_step/sec: 350.757\n",
      "INFO:tensorflow:loss = 0.8084446, step = 2600 (0.269 sec)\n",
      "INFO:tensorflow:global_step/sec: 393.939\n",
      "INFO:tensorflow:loss = 0.7948015, step = 2700 (0.254 sec)\n",
      "INFO:tensorflow:global_step/sec: 358.933\n",
      "INFO:tensorflow:loss = 0.7913475, step = 2800 (0.279 sec)\n",
      "INFO:tensorflow:global_step/sec: 371.087\n",
      "INFO:tensorflow:loss = 0.7860838, step = 2900 (0.269 sec)\n",
      "INFO:tensorflow:global_step/sec: 393.935\n",
      "INFO:tensorflow:loss = 0.7770082, step = 3000 (0.269 sec)\n",
      "INFO:tensorflow:global_step/sec: 358.943\n",
      "INFO:tensorflow:loss = 0.7692584, step = 3100 (0.263 sec)\n",
      "INFO:tensorflow:global_step/sec: 393.941\n",
      "INFO:tensorflow:loss = 0.7636764, step = 3200 (0.269 sec)\n",
      "INFO:tensorflow:global_step/sec: 371.1\n",
      "INFO:tensorflow:loss = 0.7664516, step = 3300 (0.254 sec)\n",
      "INFO:tensorflow:global_step/sec: 380.274\n",
      "INFO:tensorflow:loss = 0.7437406, step = 3400 (0.263 sec)\n",
      "INFO:tensorflow:global_step/sec: 350.719\n",
      "INFO:tensorflow:loss = 0.7711409, step = 3500 (0.285 sec)\n",
      "INFO:tensorflow:global_step/sec: 371.066\n",
      "INFO:tensorflow:loss = 0.73903424, step = 3600 (0.269 sec)\n",
      "INFO:tensorflow:global_step/sec: 404.29\n",
      "INFO:tensorflow:loss = 0.732891, step = 3700 (0.263 sec)\n",
      "INFO:tensorflow:global_step/sec: 371.071\n",
      "INFO:tensorflow:loss = 0.7331129, step = 3800 (0.254 sec)\n",
      "INFO:tensorflow:global_step/sec: 371.096\n",
      "INFO:tensorflow:loss = 0.7383375, step = 3900 (0.269 sec)\n",
      "INFO:tensorflow:global_step/sec: 380.276\n",
      "INFO:tensorflow:loss = 0.7369236, step = 4000 (0.263 sec)\n",
      "INFO:tensorflow:global_step/sec: 270.475\n",
      "INFO:tensorflow:loss = 0.7202295, step = 4100 (0.370 sec)\n",
      "INFO:tensorflow:global_step/sec: 270.467\n",
      "INFO:tensorflow:loss = 0.7265402, step = 4200 (0.385 sec)\n",
      "INFO:tensorflow:global_step/sec: 275.321\n",
      "INFO:tensorflow:loss = 0.70696884, step = 4300 (0.348 sec)\n",
      "INFO:tensorflow:global_step/sec: 316.093\n",
      "INFO:tensorflow:loss = 0.72475123, step = 4400 (0.316 sec)\n",
      "INFO:tensorflow:global_step/sec: 316.112\n",
      "INFO:tensorflow:loss = 0.7169199, step = 4500 (0.323 sec)\n",
      "INFO:tensorflow:global_step/sec: 354.49\n",
      "INFO:tensorflow:loss = 0.7041257, step = 4600 (0.291 sec)\n",
      "INFO:tensorflow:global_step/sec: 329.437\n",
      "INFO:tensorflow:loss = 0.7145088, step = 4700 (0.310 sec)\n",
      "INFO:tensorflow:global_step/sec: 295.444\n",
      "INFO:tensorflow:loss = 0.6992617, step = 4800 (0.332 sec)\n",
      "INFO:tensorflow:global_step/sec: 299.396\n",
      "INFO:tensorflow:loss = 0.70090306, step = 4900 (0.334 sec)\n",
      "INFO:tensorflow:Calling checkpoint listeners before saving checkpoint 5000...\n",
      "INFO:tensorflow:Saving checkpoints for 5000 into C:\\Users\\denis\\AppData\\Local\\Temp\\tmp4lshitm1\\model.ckpt.\n",
      "INFO:tensorflow:Calling checkpoint listeners after saving checkpoint 5000...\n",
      "INFO:tensorflow:Loss for final step: 0.7004126.\n"
     ]
    },
    {
     "data": {
      "text/plain": [
       "<tensorflow_estimator.python.estimator.canned.dnn.DNNClassifierV2 at 0x1fd9bf37070>"
      ]
     },
     "execution_count": 84,
     "metadata": {},
     "output_type": "execute_result"
    }
   ],
   "source": [
    "classifier.train(\n",
    "    input_fn=lambda: input_fn(train, train_y, training=True),\n",
    "    steps=5000)\n",
    "# We include a lambda to avoid creating an inner function previously"
   ]
  },
  {
   "cell_type": "code",
   "execution_count": 85,
   "metadata": {
    "collapsed": true
   },
   "outputs": [
    {
     "name": "stdout",
     "output_type": "stream",
     "text": [
      "INFO:tensorflow:Calling model_fn.\n",
      "INFO:tensorflow:Done calling model_fn.\n",
      "INFO:tensorflow:Starting evaluation at 2021-05-19T15:14:27\n",
      "INFO:tensorflow:Graph was finalized.\n",
      "INFO:tensorflow:Restoring parameters from C:\\Users\\denis\\AppData\\Local\\Temp\\tmp4lshitm1\\model.ckpt-5000\n",
      "INFO:tensorflow:Running local_init_op.\n",
      "INFO:tensorflow:Done running local_init_op.\n",
      "INFO:tensorflow:Inference Time : 0.41660s\n",
      "INFO:tensorflow:Finished evaluation at 2021-05-19-15:14:28\n",
      "INFO:tensorflow:Saving dict for global step 5000: accuracy = 0.8666667, average_loss = 0.743723, global_step = 5000, loss = 0.743723\n",
      "INFO:tensorflow:Saving 'checkpoint_path' summary for global step 5000: C:\\Users\\denis\\AppData\\Local\\Temp\\tmp4lshitm1\\model.ckpt-5000\n",
      "\n",
      "Test set accuracy: 0.867\n",
      "\n"
     ]
    }
   ],
   "source": [
    "eval_result = classifier.evaluate(\n",
    "    input_fn = lambda: input_fn(test, test_y, training=False))\n",
    "\n",
    "print('\\nTest set accuracy: {accuracy:0.3f}\\n'.format(**eval_result))"
   ]
  },
  {
   "cell_type": "code",
   "execution_count": 87,
   "metadata": {
    "collapsed": true
   },
   "outputs": [
    {
     "name": "stdout",
     "output_type": "stream",
     "text": [
      "Please type numeric values as prompted.\n",
      "SepalLength: 5.2\n",
      "SepalWidth: 4.3\n",
      "PetalLength: 2.0\n",
      "PetalWidth: 2\n",
      "PetalWidth: 3\n",
      "PetalWidth: 21\n",
      "PetalWidth: 4.0\n",
      "INFO:tensorflow:Calling model_fn.\n",
      "INFO:tensorflow:Done calling model_fn.\n",
      "INFO:tensorflow:Graph was finalized.\n",
      "INFO:tensorflow:Restoring parameters from C:\\Users\\denis\\AppData\\Local\\Temp\\tmp4lshitm1\\model.ckpt-5000\n",
      "INFO:tensorflow:Running local_init_op.\n",
      "INFO:tensorflow:Done running local_init_op.\n",
      "Prediction is \"Setosa\" (84.9%)\n"
     ]
    }
   ],
   "source": [
    "def input_fn(features, batch_size=256):\n",
    "    # Convert the inputs to a Dataset without labels.\n",
    "    return tf.data.Dataset.from_tensor_slices(dict(features)).batch(batch_size)\n",
    "\n",
    "features = ['SepalLength', 'SepalWidth', 'PetalLength', 'PetalWidth']\n",
    "predict = {}\n",
    "\n",
    "print(\"Please type numeric values as prompted.\")\n",
    "for feature in features:\n",
    "  valid = True\n",
    "  while valid: \n",
    "    val = input(feature + \": \")\n",
    "    if not val.isdigit(): valid = False\n",
    "\n",
    "  predict[feature] = [float(val)]\n",
    "\n",
    "predictions = classifier.predict(input_fn=lambda: input_fn(predict))\n",
    "for pred_dict in predictions:\n",
    "    class_id = pred_dict['class_ids'][0]\n",
    "    probability = pred_dict['probabilities'][class_id]\n",
    "\n",
    "    print('Prediction is \"{}\" ({:.1f}%)'.format(\n",
    "        SPECIES[class_id], 100 * probability))\n"
   ]
  },
  {
   "cell_type": "code",
   "execution_count": null,
   "metadata": {},
   "outputs": [],
   "source": []
  }
 ],
 "metadata": {
  "kernelspec": {
   "display_name": "Python 3",
   "language": "python",
   "name": "python3"
  },
  "language_info": {
   "codemirror_mode": {
    "name": "ipython",
    "version": 3
   },
   "file_extension": ".py",
   "mimetype": "text/x-python",
   "name": "python",
   "nbconvert_exporter": "python",
   "pygments_lexer": "ipython3",
   "version": "3.8.5"
  }
 },
 "nbformat": 4,
 "nbformat_minor": 4
}
