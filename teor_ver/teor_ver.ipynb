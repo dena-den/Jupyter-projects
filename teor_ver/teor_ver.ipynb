{
 "cells": [
  {
   "cell_type": "code",
   "execution_count": null,
   "metadata": {},
   "outputs": [],
   "source": [
    "sum = 0\n",
    "for i in range(0,11):\n",
    "    sum += 6**i\n",
    "sum"
   ]
  },
  {
   "cell_type": "code",
   "execution_count": 47,
   "metadata": {},
   "outputs": [
    {
     "data": {
      "text/plain": [
       "4.009195990804009"
      ]
     },
     "execution_count": 47,
     "metadata": {},
     "output_type": "execute_result"
    }
   ],
   "source": [
    "import random\n",
    "i, ans = 1, 0\n",
    "while i <= 1000000:\n",
    "    sum = random.randint(0,9) + random.randint(0,9)\n",
    "    if sum == 15:\n",
    "        ans += 1\n",
    "    i += 1\n",
    "    \n",
    "ans/i*100"
   ]
  },
  {
   "cell_type": "code",
   "execution_count": null,
   "metadata": {},
   "outputs": [],
   "source": []
  },
  {
   "cell_type": "code",
   "execution_count": 17,
   "metadata": {},
   "outputs": [],
   "source": [
    "import re"
   ]
  },
  {
   "cell_type": "code",
   "execution_count": 25,
   "metadata": {},
   "outputs": [
    {
     "data": {
      "text/plain": [
       "['511',\n",
       " '512',\n",
       " '513',\n",
       " '515',\n",
       " '521',\n",
       " '522',\n",
       " '523',\n",
       " '525',\n",
       " '541',\n",
       " '542',\n",
       " '543',\n",
       " '545',\n",
       " '711',\n",
       " '712',\n",
       " '713',\n",
       " '715',\n",
       " '721',\n",
       " '722',\n",
       " '723',\n",
       " '725',\n",
       " '741',\n",
       " '742',\n",
       " '743',\n",
       " '745',\n",
       " '811',\n",
       " '812',\n",
       " '813',\n",
       " '815',\n",
       " '821',\n",
       " '822',\n",
       " '823',\n",
       " '825',\n",
       " '841',\n",
       " '842',\n",
       " '843',\n",
       " '845',\n",
       " '911',\n",
       " '912',\n",
       " '913',\n",
       " '915',\n",
       " '921',\n",
       " '922',\n",
       " '923',\n",
       " '925',\n",
       " '941',\n",
       " '942',\n",
       " '943',\n",
       " '945',\n",
       " '011',\n",
       " '012',\n",
       " '013',\n",
       " '015',\n",
       " '021',\n",
       " '022',\n",
       " '023',\n",
       " '025',\n",
       " '041',\n",
       " '042',\n",
       " '043',\n",
       " '045']"
      ]
     },
     "execution_count": 25,
     "metadata": {},
     "output_type": "execute_result"
    }
   ],
   "source": [
    "\n",
    "check2 = [\"339\",\"366\",\"399\",\"658\",\"636\",\"258\",\"268\",\"669\",\"668\",\"266\",\"369\",\"398\",\"256\",\"296\",\"259\",\"368\",\"638\",\"396\",\"238\",\"356\",\"659\",\"639\",\"666\",\"359\",\"336\",\"299\",\"338\",\"696\",\"269\",\"358\",\"656\",\"698\",\"699\",\"298\",\"236\",\"239\"]\n",
    "x2 = '369'\n",
    "\n",
    "check = [\"11\", \"22\", \"44\", \"12\", \"21\", \"14\", \"41\", \"24\", \"42\"]\n",
    "x = '812'\n",
    "\n",
    "numb = {'0': ['0', '8'],\n",
    "        '1': ['1', '2', '4'],\n",
    "        '2': ['2', '1', '3', '5'],\n",
    "        '3': ['3', '2', '6'],\n",
    "        '4': ['4', '1', '5', '7'],\n",
    "        '5': ['5', '2', '4', '6', '8'],\n",
    "        '6': ['6', '3', '5', '9'],\n",
    "        '7': ['7', '4', '8'],\n",
    "        '8': ['8', '5', '7', '9', '0'],\n",
    "        '9': ['9', '6', '8']}\n",
    "    \n",
    "def get_pins(x):\n",
    "    max_num = '9' * len(x)\n",
    "    all_num = [str(i) for i in range(int(max_num)+1)]\n",
    "    for every in all_num.copy():\n",
    "        if len(every) != len(x):\n",
    "            all_num.remove(every)\n",
    "            while len(every) != len(x):\n",
    "                every = '0' + every\n",
    "                if len(every) == len(x):\n",
    "                    all_num.append(every)\n",
    "        for i in range(len(every)):\n",
    "            a = numb[x[i]]\n",
    "            if every[i] not in a:\n",
    "                #delete = [j for j ]\n",
    "                all_num.remove(every)\n",
    "                break\n",
    "    return all_num\n",
    "\n",
    "get_pins(x)"
   ]
  },
  {
   "cell_type": "code",
   "execution_count": null,
   "metadata": {},
   "outputs": [],
   "source": []
  }
 ],
 "metadata": {
  "kernelspec": {
   "display_name": "Python 3",
   "language": "python",
   "name": "python3"
  },
  "language_info": {
   "codemirror_mode": {
    "name": "ipython",
    "version": 3
   },
   "file_extension": ".py",
   "mimetype": "text/x-python",
   "name": "python",
   "nbconvert_exporter": "python",
   "pygments_lexer": "ipython3",
   "version": "3.8.5"
  }
 },
 "nbformat": 4,
 "nbformat_minor": 4
}
